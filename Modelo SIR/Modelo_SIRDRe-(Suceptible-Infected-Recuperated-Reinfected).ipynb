{
 "cells": [
  {
   "cell_type": "markdown",
   "id": "3526e9ed",
   "metadata": {},
   "source": [
    "   # Modelo SIRDRe (Determinista)\n",
    "       "
   ]
  },
  {
   "cell_type": "markdown",
   "id": "eda44c85",
   "metadata": {},
   "source": [
    "## (Suceptible-Infected-Removed-Death-Reinfected)"
   ]
  },
  {
   "cell_type": "markdown",
   "id": "e160bcd9",
   "metadata": {},
   "source": [
    "Los modelos SI,SIS y SIR pueden modelarse en forma determinista o estocástica y en todos ellos se asume que la interacción entre los individuos es aleatoria. \n",
    "\n",
    "Una forma de modelar las enfermedades epidemiológicas es mediante el modelo SIR (suceptible-infectado-removido), sin embargo este no toma en cuenta las muertes ni las reinfecciones, es por eso que se propone este nuevo modelo SIRDRE(Suceptible-Infected-Removed-Reinfected) en su forma determinista.\n",
    "\n",
    "Se considerará que la población está mezclada de manera uniforme, es decir, cualquier par de individuos en la población tienen la misma probabilidad de tener contacto directo con un tercer individuo en la misma población. Se asume además que la población es cerrada, es decir, que no hay emigración, ni inmigración de habitantes.\n",
    "Entonces, sea x(t) la cantidad de susceptibles en el instante t, y(t) la cantidad de infectados y z(t) la cantidad de removidos, en cuyo caso, para todo t > 0, tenemos que x(t) + y(t) + z(t) = n, en donde n representa, como ya mencionamos, el tamaño de la\n",
    "poblaci´on en cuesti´on. Asi, el modelo consta de un sistema tridimensional de ecuaciones diferenciales ordinarias, modelado bajo leyes empíricas de la epidemiología.\n",
    "\n",
    "Para el modelo SIR, que en su forma más simple puede formularse como un conjunto de ecuaciones diferenciales tal y como se muestra a continuación:\n",
    "\n",
    " 1.- $ \\frac{dS}{dt} = - \\beta I(t) S(t) N $\n",
    " \n",
    " 2.- $ \\frac{dI}{dt} = \\beta I(t) S(t) N - \\gamma I(t) $\n",
    " \n",
    " 3.- $ \\frac{dR}{dt} = -\\gamma I(t) $\n",
    " \n",
    " en donde  $\\beta$ representa la tasa de infección, es decir, el ritmo con el cual los suceptibles están siendo infectados. Por otro lado $\\gama$ representa la tasa con la cual los infectados se están recuperando, o bien, están muriendo, pero para este modelo todos pasan al grupo de \"Removidos\""
   ]
  },
  {
   "cell_type": "markdown",
   "id": "591a9e0b",
   "metadata": {},
   "source": [
    "Para el nuevo modelo SIRDRe se propone: \n",
    "\n",
    "- $\\delta$ es la tasa con las que las personas mueren\n",
    "- $\\beta$ es la tasa con la que las personas se reinfectan\n",
    "\n",
    "De tal modo que ahora las ecuaciones para este modelo quedatian de la siguiente forma:\n",
    "\n",
    "\n",
    "1.- $\\dot S = -\\beta SI $\n",
    "\n",
    "2.- $\\dot I = \\beta SI - \\gamma I -\\delta I $\n",
    "\n",
    "3.- $\\dot R = \\gamma SI $\n",
    "\n",
    "4.- $\\dot D = \\delta I $\n",
    "\n",
    "5.- $\\dot R_0 = \\frac{S_0(\\gamma+ \\delta)}{\\beta} $\n",
    "\n",
    "6.- $\\dot RI = R_O $\n"
   ]
  },
  {
   "cell_type": "code",
   "execution_count": null,
   "id": "32568d27",
   "metadata": {},
   "outputs": [],
   "source": []
  }
 ],
 "metadata": {
  "kernelspec": {
   "display_name": "Python 3 (ipykernel)",
   "language": "python",
   "name": "python3"
  },
  "language_info": {
   "codemirror_mode": {
    "name": "ipython",
    "version": 3
   },
   "file_extension": ".py",
   "mimetype": "text/x-python",
   "name": "python",
   "nbconvert_exporter": "python",
   "pygments_lexer": "ipython3",
   "version": "3.9.5"
  }
 },
 "nbformat": 4,
 "nbformat_minor": 5
}
