{
 "cells": [
  {
   "cell_type": "markdown",
   "id": "e600a864",
   "metadata": {},
   "source": [
    "# Lenguajes libre de contexto  y  Automatas de pila"
   ]
  },
  {
   "cell_type": "markdown",
   "id": "f2f8b35d",
   "metadata": {},
   "source": [
    "Objetivos a desarrollar\n",
    "\n",
    "-Qué es un automata de Pila?\n",
    "    -Explicacion\n",
    "    -Implementacion\n",
    "    -Ejemplos\n",
    "\n",
    "\n",
    "-Lenguajes y gramáticas libres de contexto \n",
    "    -Explicacion\n",
    "    -Implementacion\n",
    "    -Ejemplos\n",
    "\n",
    "\n",
    "-Lema del bombeo\n",
    "    -Explicacion\n",
    "    -Implementacion\n",
    "    -Ejemplos"
   ]
  },
  {
   "cell_type": "markdown",
   "id": "474aecd4",
   "metadata": {},
   "source": []
  },
  {
   "cell_type": "markdown",
   "id": "74286214",
   "metadata": {},
   "source": [
    "# Automatas de pila"
   ]
  },
  {
   "cell_type": "code",
   "execution_count": null,
   "id": "ceaaddd2",
   "metadata": {},
   "outputs": [],
   "source": [
    "#Moises "
   ]
  },
  {
   "cell_type": "markdown",
   "id": "73dd1468",
   "metadata": {},
   "source": [
    "# Lenguajes y gramáticas"
   ]
  },
  {
   "cell_type": "code",
   "execution_count": null,
   "id": "be257ebf",
   "metadata": {},
   "outputs": [],
   "source": [
    "#Estefania"
   ]
  },
  {
   "cell_type": "markdown",
   "id": "b76e3f63",
   "metadata": {},
   "source": [
    "# Lema del bombeo"
   ]
  },
  {
   "cell_type": "code",
   "execution_count": null,
   "id": "8a863ae6",
   "metadata": {},
   "outputs": [],
   "source": [
    "#Alberto"
   ]
  }
 ],
 "metadata": {
  "kernelspec": {
   "display_name": "Python 3 (ipykernel)",
   "language": "python",
   "name": "python3"
  },
  "language_info": {
   "codemirror_mode": {
    "name": "ipython",
    "version": 3
   },
   "file_extension": ".py",
   "mimetype": "text/x-python",
   "name": "python",
   "nbconvert_exporter": "python",
   "pygments_lexer": "ipython3",
   "version": "3.9.5"
  }
 },
 "nbformat": 4,
 "nbformat_minor": 5
}
