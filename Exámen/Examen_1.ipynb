{
  "nbformat": 4,
  "nbformat_minor": 0,
  "metadata": {
    "colab": {
      "name": "Examen_1.ipynb",
      "provenance": [],
      "collapsed_sections": []
    },
    "kernelspec": {
      "name": "python3",
      "display_name": "Python 3"
    },
    "language_info": {
      "name": "python"
    }
  },
  "cells": [
    {
      "cell_type": "markdown",
      "source": [
        "<center> <h1> Teoria de Juegos </h1> </center>\n",
        "<center> <h4> 1er Exámen Parcial (Parte de programación en Python con libreria Mesa) </h4> </center>\n",
        "\n",
        "<center> <h3> Profesores: Matías Alvarado, Sergio Alcalá, Departamento de Computación, CINVES\n",
        " </h3> </center>\n",
        " \n",
        "\n",
        "<center> <h3>  Moises Omar León PIenda </h3> </center>\n",
        " \n"
      ],
      "metadata": {
        "id": "9MnebJk5gQc6"
      }
    },
    {
      "cell_type": "markdown",
      "source": [
        "Sean  conjuntosde  agentes que  interactúanen  un  entorno  definido, circular o  poligonal,conforme el Modelo de Ising en 2 dimensiones:\n",
        "\n",
        "  1.Programar el modelo de Ising, con spines (agentes)tales que: (1 puntos)\n",
        "\n",
        "    a.Los   conjuntosA1   y   A2 de   cardinalidad nym,cooperan entre   sí, respectivamente. \n",
        "    b.A1 y A2 compiten entre sí, conforme el modelo de Ising. \n",
        "    c.Entradas de cada conjunto dadaporfunción de distribución uniforme.\n",
        "    d.Hay factores externos μ1  y + μ2 cuyos  eventos  ocurren conforme  una distribución normal.\n",
        "\n",
        "\n",
        "  2.Con entradas  dadas  por  unadistribución normal  de  probabilidades.Interpretar tal que:(2.5puntos)\n",
        "  \n",
        "    a.A1 es cáncer, C.\n",
        "    b.A2 es sistema inmune, SI.\n",
        "    c.El factor μ 1es favorable adesarrollo de C, y un μ2 favorableal SI.\n",
        "    \n",
        "\n",
        "  3.Simulaciones:definir y diseñar 3 escenarios:(2.5puntos)\n",
        "  \n",
        "    a.A1 + μ1 gana o escapa a A2+μ2.\n",
        "    b.A1 + μ1 y A2 + μ2 están en equilibrio.\n",
        "    c.A2+ μ2 gana o elimina a A1 + μ1"
      ],
      "metadata": {
        "id": "HoWFvjs_kPAw"
      }
    },
    {
      "cell_type": "markdown",
      "source": [
        "# Solución "
      ],
      "metadata": {
        "id": "5cFJUvzz8c-T"
      }
    },
    {
      "cell_type": "markdown",
      "source": [
        "\n",
        "\n",
        "\n",
        "El modelo de Ising es un modelo matemático simple que permite estudiar un sistema de spines (o dipolos magneticos) interactuantes. El modelo en 2 dimensiones da cuenta de un cambio de fase a baja temperatura, en la cual el sistema se magnetiza. El Hamiltoniano que describe el sistema es \n",
        "\n",
        " H = - ∑<sub>ij</sub>J<sub>ij</sub>S<sub>i</sub>S<sub>j - </sub>μ ∑<sub>j </sub>h <sub> j </sub> S <sub> j\n",
        "\n",
        "\n",
        "La interacción spin-spin se clasifica de la siguiente manera:\n",
        "\n",
        "-J<sub>ij</sub> >0: ferromagnética\n",
        "\n",
        "-J<sub>ij</sub> <0: antiferromagnética\n",
        "\n",
        "-J<sub>ij </sub> =0: no interactuante \n",
        "\n",
        "\n",
        "La versión más simple del modelo de Ising considera interacción únicamente a primeros vecinos, sin la presencia den un campo magnético externo. El Hamiltoniano en este caso es\n",
        "\n",
        "H = -J ∑<sub>ij </sub>S<sub>i</sub>S<sub>j\n",
        "\n",
        "donde J=J<sub>ij </sub> toma el mismo valor para todos los pares de spines.     \n",
        " \n"
      ],
      "metadata": {
        "id": "LUpMP_dV8Z1T"
      }
    },
    {
      "cell_type": "markdown",
      "metadata": {
        "id": "kDn_lVxg3Z2G"
      },
      "source": [
        "# Primero importamos las librerias que no se encuentran en colab\n",
        "\n",
        "Para importar una biblioteca que no está en Colaboratory de forma predeterminada, puede utilizar\n",
        "\n",
        "`!pip install` or `!apt-get install`."
      ]
    },
    {
      "cell_type": "code",
      "execution_count": null,
      "metadata": {
        "id": "GQ18Kd5F3uKe",
        "colab": {
          "base_uri": "https://localhost:8080/"
        },
        "outputId": "9476f295-cc50-413e-d4ac-55576b786bfc"
      },
      "outputs": [
        {
          "output_type": "stream",
          "name": "stdout",
          "text": [
            "Requirement already satisfied: matplotlib-venn in /usr/local/lib/python3.7/dist-packages (0.11.6)\n",
            "Requirement already satisfied: numpy in /usr/local/lib/python3.7/dist-packages (from matplotlib-venn) (1.21.5)\n",
            "Requirement already satisfied: matplotlib in /usr/local/lib/python3.7/dist-packages (from matplotlib-venn) (3.2.2)\n",
            "Requirement already satisfied: scipy in /usr/local/lib/python3.7/dist-packages (from matplotlib-venn) (1.4.1)\n",
            "Requirement already satisfied: cycler>=0.10 in /usr/local/lib/python3.7/dist-packages (from matplotlib->matplotlib-venn) (0.11.0)\n",
            "Requirement already satisfied: pyparsing!=2.0.4,!=2.1.2,!=2.1.6,>=2.0.1 in /usr/local/lib/python3.7/dist-packages (from matplotlib->matplotlib-venn) (3.0.7)\n",
            "Requirement already satisfied: python-dateutil>=2.1 in /usr/local/lib/python3.7/dist-packages (from matplotlib->matplotlib-venn) (2.8.2)\n",
            "Requirement already satisfied: kiwisolver>=1.0.1 in /usr/local/lib/python3.7/dist-packages (from matplotlib->matplotlib-venn) (1.3.2)\n",
            "Requirement already satisfied: six>=1.5 in /usr/local/lib/python3.7/dist-packages (from python-dateutil>=2.1->matplotlib->matplotlib-venn) (1.15.0)\n",
            "Collecting mesa\n",
            "  Downloading Mesa-0.9.0-py3-none-any.whl (691 kB)\n",
            "\u001b[K     |████████████████████████████████| 691 kB 4.2 MB/s \n",
            "\u001b[?25hRequirement already satisfied: numpy in /usr/local/lib/python3.7/dist-packages (from mesa) (1.21.5)\n",
            "Collecting cookiecutter\n",
            "  Downloading cookiecutter-1.7.3-py2.py3-none-any.whl (34 kB)\n",
            "Requirement already satisfied: pandas in /usr/local/lib/python3.7/dist-packages (from mesa) (1.3.5)\n",
            "Requirement already satisfied: click in /usr/local/lib/python3.7/dist-packages (from mesa) (7.1.2)\n",
            "Requirement already satisfied: networkx in /usr/local/lib/python3.7/dist-packages (from mesa) (2.6.3)\n",
            "Requirement already satisfied: tornado in /usr/local/lib/python3.7/dist-packages (from mesa) (5.1.1)\n",
            "Requirement already satisfied: tqdm in /usr/local/lib/python3.7/dist-packages (from mesa) (4.63.0)\n",
            "Requirement already satisfied: python-slugify>=4.0.0 in /usr/local/lib/python3.7/dist-packages (from cookiecutter->mesa) (6.1.1)\n",
            "Requirement already satisfied: six>=1.10 in /usr/local/lib/python3.7/dist-packages (from cookiecutter->mesa) (1.15.0)\n",
            "Collecting poyo>=0.5.0\n",
            "  Downloading poyo-0.5.0-py2.py3-none-any.whl (10 kB)\n",
            "Collecting binaryornot>=0.4.4\n",
            "  Downloading binaryornot-0.4.4-py2.py3-none-any.whl (9.0 kB)\n",
            "Requirement already satisfied: requests>=2.23.0 in /usr/local/lib/python3.7/dist-packages (from cookiecutter->mesa) (2.23.0)\n",
            "Requirement already satisfied: Jinja2<4.0.0,>=2.7 in /usr/local/lib/python3.7/dist-packages (from cookiecutter->mesa) (2.11.3)\n",
            "Collecting jinja2-time>=0.2.0\n",
            "  Downloading jinja2_time-0.2.0-py2.py3-none-any.whl (6.4 kB)\n",
            "Requirement already satisfied: chardet>=3.0.2 in /usr/local/lib/python3.7/dist-packages (from binaryornot>=0.4.4->cookiecutter->mesa) (3.0.4)\n",
            "Requirement already satisfied: MarkupSafe>=0.23 in /usr/local/lib/python3.7/dist-packages (from Jinja2<4.0.0,>=2.7->cookiecutter->mesa) (2.0.1)\n",
            "Collecting arrow\n",
            "  Downloading arrow-1.2.2-py3-none-any.whl (64 kB)\n",
            "\u001b[K     |████████████████████████████████| 64 kB 2.3 MB/s \n",
            "\u001b[?25hRequirement already satisfied: text-unidecode>=1.3 in /usr/local/lib/python3.7/dist-packages (from python-slugify>=4.0.0->cookiecutter->mesa) (1.3)\n",
            "Requirement already satisfied: idna<3,>=2.5 in /usr/local/lib/python3.7/dist-packages (from requests>=2.23.0->cookiecutter->mesa) (2.10)\n",
            "Requirement already satisfied: urllib3!=1.25.0,!=1.25.1,<1.26,>=1.21.1 in /usr/local/lib/python3.7/dist-packages (from requests>=2.23.0->cookiecutter->mesa) (1.24.3)\n",
            "Requirement already satisfied: certifi>=2017.4.17 in /usr/local/lib/python3.7/dist-packages (from requests>=2.23.0->cookiecutter->mesa) (2021.10.8)\n",
            "Requirement already satisfied: typing-extensions in /usr/local/lib/python3.7/dist-packages (from arrow->jinja2-time>=0.2.0->cookiecutter->mesa) (3.10.0.2)\n",
            "Requirement already satisfied: python-dateutil>=2.7.0 in /usr/local/lib/python3.7/dist-packages (from arrow->jinja2-time>=0.2.0->cookiecutter->mesa) (2.8.2)\n",
            "Requirement already satisfied: pytz>=2017.3 in /usr/local/lib/python3.7/dist-packages (from pandas->mesa) (2018.9)\n",
            "Installing collected packages: arrow, poyo, jinja2-time, binaryornot, cookiecutter, mesa\n",
            "Successfully installed arrow-1.2.2 binaryornot-0.4.4 cookiecutter-1.7.3 jinja2-time-0.2.0 mesa-0.9.0 poyo-0.5.0\n"
          ]
        }
      ],
      "source": [
        "#Matplotlib\n",
        "!pip install matplotlib-venn\n",
        "\n",
        "#Mesa\n",
        "!pip install mesa\n",
        "\n",
        "from mesa import Agent, Model\n",
        "from mesa.datacollection import DataCollector\n",
        "from mesa.space import NetworkGrid\n",
        "from mesa.time import RandomActivation\n",
        "import numpy as np\n",
        "import networkx as nx\n",
        "import random\n"
      ]
    },
    {
      "cell_type": "code",
      "source": [
        ""
      ],
      "metadata": {
        "id": "BemhW9AMRYQW"
      },
      "execution_count": null,
      "outputs": []
    },
    {
      "cell_type": "code",
      "source": [
        "def f_difference(model):\n",
        "    diff = 0\n",
        "    conn = nx.edges(model.graph)\n",
        "    for edge in conn:\n",
        "        diff += np.mean(abs(model.schedule.agents[edge[0]].feature - model.schedule.agents[edge[1]].feature))\n",
        "    return diff"
      ],
      "metadata": {
        "id": "I_MZJL9XJMJa"
      },
      "execution_count": 11,
      "outputs": []
    },
    {
      "cell_type": "code",
      "source": [
        "\n",
        "\n",
        "class ising_Agent(Agent):\n",
        "    ## Individual agent represented by a node in a network\n",
        "\n",
        "    ## Initializing the agent.\n",
        "    def __init__(self, unique_id, agent_type, model):\n",
        "        super().__init__(unique_id, model)\n",
        "        self.unique_id = unique_id\n",
        "        self.type = agent_type\n",
        "        \n",
        "    \n",
        "    ## No content on agent's step.\n",
        "    def step(self):\n",
        "      #Hamintoniano\n",
        "\n",
        "        return\n",
        "    \n",
        "class ising_model(Model):\n",
        "    #Model containing N agents connected in a network. Also change the value of agent here\n",
        "    \n",
        "    ##Initializing the model.\n",
        "    def __init__(self, height=20, width=20, minority_pc=0.5, T=0.4, J=0.0, normal=False, \n",
        "    media1 = 0.5, desviacion1=0.5, media2 = 0.5, desviacion2=0.5):\n",
        "        \"\"\" \"\"\"\n",
        "        # atributos del modelo \n",
        "        self.height = height\n",
        "        self.width = width\n",
        "        self.minority_pc = minority_pc       \n",
        "        self.T_inv = 1/T\n",
        "        self.total_energy =0\n",
        "        self.J =J\n",
        "        self.normal=normal\n",
        "        self.media1 = media1\n",
        "        self.desviacion1= desviacion1\n",
        "        self.media2 = media2\n",
        "        self.desviacion2= desviacion2\n",
        "\n",
        "        self.schedule = RandomActivation(self)\n",
        "        self.grid = SingleGrid(width, height, torus=True)\n",
        "\n",
        "        self.datacollector = DataCollector(\n",
        "            {\"energy\": \"energy\"}, \n",
        "            {\"x\": lambda a: a.unique_id[0], \"y\": lambda a: a.unique_id[1]},\n",
        "        )\n",
        "        \n",
        "        ## Creating the agents.\n",
        "        for cell in self.grid.coord_iter():\n",
        "            x = cell[1]\n",
        "            y = cell[2]\n",
        "            if self.random.random() < self.minority_pc:\n",
        "                agent_type = 1              # células cancerosas\n",
        "            else:\n",
        "                agent_type = -1             # SI\n",
        "\n",
        "            agent = IsingAgent((x, y), self, agent_type)\n",
        "            self.grid.unique_idition_agent(agent, (x, y))\n",
        "            self.schedule.add(agent)\n",
        "        for cell in self.grid.coord_iter():\n",
        "            # Energía total\n",
        "            spin = cell[0].type\n",
        "            x = cell[1]\n",
        "            y = cell[2]\n",
        "            energia_inicial =0\n",
        "            for neighbor in self.grid.neighbor_iter((x,y), False): \n",
        "                energia_inicial += neighbor.type\n",
        "            self.total_energy += -energia_inicial*spin/2\n",
        "\n",
        "\n",
        "        ## Creating collector for difference function defined above.\n",
        "        self.running = True\n",
        "        self.datacollector.collect(self)\n",
        "    \n",
        "    ## At each model step, they collect data by using the collector.\n",
        "    def step(self):\n",
        "        self.schedule.step()\n",
        "        # collect data\n",
        "        self.datacollector.collect(self)"
      ],
      "metadata": {
        "id": "8cXTsa-RJSRv"
      },
      "execution_count": 10,
      "outputs": []
    },
    {
      "cell_type": "code",
      "source": [
        "\n",
        "\n",
        "from mesa.visualization.ModularVisualization import ModularServer\n",
        "from mesa.visualization.modules import CanvasGrid, ChartModule, TextElement\n",
        "from mesa.visualization.UserParam import UserSettableParameter\n",
        "\n",
        "\n",
        "\n",
        "class Element(TextElement):\n",
        "#Display a text count of how many happy agents there are.\n",
        "    \n",
        "\n",
        "\n",
        "    def __init__(self):\n",
        "        pass\n",
        "\n",
        "    def render(self, model):\n",
        "        return \"Energy agents: \" + str(model.total_energy )\n",
        "\n",
        "\n",
        "def schelling_draw(agent):\n",
        "    \"\"\"\n",
        "    Portrayal Method for canvas\n",
        "    \"\"\"\n",
        "    if agent is None:\n",
        "        return\n",
        "    portrayal = {\"Shape\": \"rect\", \"w\":1, \"h\": 1, \"Filled\": \"true\", \"Layer\": 0}\n",
        "\n",
        "    if agent.type == 1:\n",
        "        portrayal[\"Color\"] = [\"#FF0000\", \"#FF9999\"]\n",
        "        portrayal[\"stroke_color\"] = \"#00FF00\"\n",
        "    else:\n",
        "        portrayal[\"Color\"] = [\"#0000FF\", \"#9999FF\"]\n",
        "        portrayal[\"stroke_color\"] = \"#000000\"\n",
        "    return portrayal\n",
        "\n",
        "energy_element = Element()\n",
        "\n",
        "height = 50\n",
        "width = 50 \n",
        "canvas_element = CanvasGrid(schelling_draw, height, width, 500, 500)\n",
        "e_chart = ChartModule([{\"Label\": \"total_energy\", \"Color\": \"Black\"}])\n",
        "\n",
        "model_params = {\n",
        "    \"height\": height,\n",
        "    \"width\": width,\n",
        "    \"minority_pc\": UserSettableParameter(\"slider\", \"Porcentaje de azules\", 0.5, 0.01, 1.0, 0.005),\n",
        "    \"T\": UserSettableParameter(\"slider\", \"T (temperatura)\", 0.4, 0.0, 5, 0.1),\n",
        "    \"J\": UserSettableParameter(\"slider\", \"J\", -0.5, -2, 2, 0.01),\n",
        "    \"normal\": UserSettableParameter(\"checkbox\", \"Distribución normal de mu1 y mu2\", value=False),\n",
        "    \"media1\": UserSettableParameter(\"number\", \"Media mu1\", value=0.5),\n",
        "    \"desviacion1\": UserSettableParameter(\"number\", \"Desviación estandar mu1\", value=0.5),\n",
        "    \"media2\": UserSettableParameter(\"number\", \"Media mu2\", value=0.5),\n",
        "    \"desviacion2\": UserSettableParameter(\"number\", \"Desviación estandar m2\", value=0.5),\n",
        "\n",
        "}\n",
        " \n"
      ],
      "metadata": {
        "id": "tNZi-XF72q7D"
      },
      "execution_count": 12,
      "outputs": []
    }
  ]
}