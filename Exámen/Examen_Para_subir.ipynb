{
  "nbformat": 4,
  "nbformat_minor": 0,
  "metadata": {
    "colab": {
      "name": "Examen_Para subir",
      "provenance": [],
      "collapsed_sections": []
    },
    "kernelspec": {
      "name": "python3",
      "display_name": "Python 3"
    },
    "language_info": {
      "name": "python"
    }
  },
  "cells": [
    {
      "cell_type": "markdown",
      "source": [
        "<center> <h1> Teoria de Juegos </h1> </center>\n",
        "<center> <h4> 1er Exámen Parcial (Parte de programación en Python con libreria Mesa) </h4> </center>\n",
        "\n",
        "<center> <h3> Profesores: Matías Alvarado, Sergio Alcalá, Departamento de Computación, CINVES\n",
        " </h3> </center>\n",
        " \n",
        "\n",
        "<center> <h3>  Moises Omar León PIenda </h3> </center>\n",
        " \n"
      ],
      "metadata": {
        "id": "9MnebJk5gQc6"
      }
    },
    {
      "cell_type": "markdown",
      "source": [
        ""
      ],
      "metadata": {
        "id": "i-Hc1rrspK28"
      }
    },
    {
      "cell_type": "code",
      "source": [
        ""
      ],
      "metadata": {
        "id": "hKa4JFjMpF4k"
      },
      "execution_count": null,
      "outputs": []
    },
    {
      "cell_type": "markdown",
      "source": [
        "\n",
        "Sean  conjuntosde  agentes que  interactúanen  un  entorno  definido, circular o  poligonal,conforme el Modelo de Ising en 2 dimensiones:\n",
        "\n",
        "\n",
        "\n",
        "  1.Programar el modelo de Ising, con spines (agentes)tales que: (1 puntos)\n",
        "\n",
        "    a.Los   conjuntos A1   y   A2 de   cardinalidad n y m,cooperan entre   sí, respectivamente. \n",
        "    b.A1 y A2 compiten entre sí, conforme el modelo de Ising. \n",
        "    c.Entradas de cada conjunto dadaporfunción de distribución uniforme.\n",
        "    d.Hay factores externos μ1  y + μ2 cuyos  eventos  ocurren conforme  una distribución normal.\n",
        "\n",
        "  2.Con entradas  dadas  por  unadistribución normal  de  probabilidades.Interpretar tal que:(2.5puntos)\n",
        "  \n",
        "    a.A1 es cáncer, C.\n",
        "    b.A2 es sistema inmune, SI.\n",
        "    c.El factor μ 1es favorable adesarrollo de C, y un μ2 favorableal SI.\n",
        "    \n",
        "  3.Simulaciones:definir y diseñar 3 escenarios:(2.5puntos)\n",
        "  \n",
        "    a.A1 + μ1 gana o escapa a A2+μ2.\n",
        "    b.A1 + μ1 y A2 + μ2 están en equilibrio.\n",
        "    c.A2+ μ2 gana o elimina a A1 + μ1"
      ],
      "metadata": {
        "id": "HoWFvjs_kPAw"
      }
    },
    {
      "cell_type": "code",
      "source": [
        ""
      ],
      "metadata": {
        "id": "f7U9Cbv4oEvj"
      },
      "execution_count": null,
      "outputs": []
    },
    {
      "cell_type": "markdown",
      "metadata": {
        "id": "kDn_lVxg3Z2G"
      },
      "source": [
        "### Primero importamos las librerias que no se encuentran en colab\n",
        "\n",
        "Para importar una biblioteca que no está en Colaboratory de forma predeterminada, puede utilizar\n",
        "\n",
        "`!pip install` or `!apt-get install`."
      ]
    },
    {
      "cell_type": "code",
      "execution_count": null,
      "metadata": {
        "id": "GQ18Kd5F3uKe"
      },
      "outputs": [],
      "source": [
        "#Matplotlib\n",
        "!pip install matplotlib-venn\n",
        "\n",
        "#Mesa\n",
        "!pip install mesa\n",
        "\n",
        "!apt-get -qq install -y libfluidsynth1\n",
        "\n"
      ]
    },
    {
      "cell_type": "markdown",
      "source": [
        "1.Programar el modelo de Ising, con spines (agentes)tales que: (1 puntos)\n",
        "\n",
        "    a.Los   conjuntos A1   y   A2 de   cardinalidad n y m,cooperan entre   sí, respectivamente. \n",
        "    b.A1 y A2 compiten entre sí, conforme el modelo de Ising. \n",
        "    c.Entradas de cada conjunto dada por función de distribución uniforme.\n",
        "    d.Hay factores externos μ1  y + μ2 cuyos  eventos  ocurren conforme  una distribución normal."
      ],
      "metadata": {
        "id": "Rj-6PIgqjXB8"
      }
    },
    {
      "cell_type": "markdown",
      "source": [
        "\n",
        "\n",
        "\n",
        "El modelo de Ising es un modelo matemático simple que permite estudiar un sistema de spines (o dipolos magneticos) interactuantes. El modelo en 2 dimensiones da cuenta de un cambio de fase a baja temperatura, en la cual el sistema se magnetiza. El Hamiltoniano que describe el sistema es \n",
        "\n",
        " H = - ∑<sub>ij</sub>J<sub>ij</sub>S<sub>i</sub>S<sub>j - </sub>μ ∑<sub>j </sub>h <sub> j </sub> S <sub> j\n",
        "\n",
        "\n",
        "La interacción spin-spin se clasifica de la siguiente manera:\n",
        "\n",
        "-J<sub>ij</sub> >0: ferromagnética\n",
        "\n",
        "-J<sub>ij</sub> <0: antiferromagnética\n",
        "\n",
        "-J<sub>ij </sub> =0: no interactuante \n",
        "\n",
        "\n",
        "La versión más simple del modelo de Ising considera interacción únicamente a primeros vecinos, sin la presencia den un campo magnético externo. El Hamiltoniano en este caso es\n",
        "\n",
        "H = -J ∑<sub>ij </sub>S<sub>i</sub>S<sub>j\n",
        "\n",
        "donde J=J<sub>ij </sub> toma el mismo valor para todos los pares de spines.     \n",
        " \n"
      ],
      "metadata": {
        "id": "7ZNrc8qDpTQo"
      }
    },
    {
      "cell_type": "code",
      "source": [
        "from pylab import *\n",
        "\n",
        "fig = figure(1)\n",
        "ax = subplot(111)\n",
        "\n",
        "# Jij = J for all i,j:  Coupling constant (Jij>0: ferromagnetic, Jij<0: antiferromagnetic, Jij=0: non magnetic )\n",
        "J= 1                   # In eV, ferromagnetic\n",
        "kT = 1.2*J             # In eV\n",
        "\n",
        "# ONSAGER SOLUTION FOR 2D LATTICE: kT = 2*J/(ln(1+sqrt(2))) = 2.2691853\n",
        "\n",
        "n=61\n",
        "mat = random(size=(n,n))   # Matrix of randoms in the interval  [ 0.0 1.0 ]\n",
        "mat = 2*floor(2*mat)-1     # Martrix of random 1's and -1's\n",
        "\n",
        "img = imshow(mat)\n",
        "show(block=False)\n",
        "\n",
        "nBlocks = 100\n",
        "for iBlock in xrange(nBlocks):\n",
        "\n",
        " for ix in xrange(n):\n",
        "  ixp = (ix+1) % n      # Neighbor to the right\n",
        "  ixm = (ix-1) % n      # Neighbor to the left\n",
        "  for iy in xrange(n):\n",
        "   iyp = (iy+1) % n     # Neighbor above\n",
        "   iym = (iy-1) % n     # Neighbor below\n",
        "   s = mat[ixm,iy] + mat[ixp,iy] + mat[ix,iyp] +  mat[ix,iym]  # Sum of neighbors spins\n",
        "   mOld = mat[ix,iy]   # Old value of the spin\n",
        "   EOld = -J*mOld*s     # Si * (S_above + S_below + S_left + S_right)\n",
        "   mNew = -mOld\n",
        "   ENew = -J*mNew*s     # sum_ij  Si'*Sj, where Si' = -Si\n",
        "   Ediff = ENew - EOld     # No need to sum over all the lattice, just this  (ix,iy)  site energy.\n",
        "\n",
        "   prob = exp(-Ediff/kT)\n",
        "   if ENew < EOld:\n",
        "    mat[ix,iy] = mNew\n",
        "   else:\n",
        "    mat[ix,iy] = mNew if random() < exp(-Ediff/kT) else mOld\n",
        "\n",
        " #print iBlock\n",
        " img.set_data(mat)\n",
        " plt.pause(1e-30)\n",
        " draw()\n",
        "\n",
        " #savefig('is'+str(iBlock)+'.png')"
      ],
      "metadata": {
        "id": "fI9OY36qkY3f"
      },
      "execution_count": null,
      "outputs": []
    },
    {
      "cell_type": "code",
      "source": [
        ""
      ],
      "metadata": {
        "id": "O63BAuIiENjh"
      },
      "execution_count": null,
      "outputs": []
    },
    {
      "cell_type": "markdown",
      "source": [
        "Importar librerias"
      ],
      "metadata": {
        "id": "Pi_8Nl0C3DnQ"
      }
    },
    {
      "cell_type": "code",
      "source": [
        "import numpy\n",
        "from collections import defaultdict\n",
        "from matplotlib import pyplot\n",
        "import itertools\n",
        "%matplotlib inline"
      ],
      "metadata": {
        "id": "jOcwZTvI3Cx_"
      },
      "execution_count": null,
      "outputs": []
    },
    {
      "cell_type": "markdown",
      "source": [
        "Definición de constantes\n",
        "\n",
        "    length es la longitud de nuestro sistema.\n",
        "    J es la constante de intercambio.\n",
        "    kB es la constante de Boltzmann.\n"
      ],
      "metadata": {
        "id": "8Nyb6Eur3K6j"
      }
    },
    {
      "cell_type": "code",
      "source": [
        "length = 10\n",
        "J = 1.0\n",
        "kB = 1.0"
      ],
      "metadata": {
        "id": "e7YLXFhz3C1N"
      },
      "execution_count": null,
      "outputs": []
    },
    {
      "cell_type": "markdown",
      "source": [
        "     \n",
        "\n",
        "Creación de arreglos\n",
        "\n",
        "\n",
        "    -sites es el arreglo donde se almacenarán las parejas (i,j)(i, j)(i,j) de los elementos de la red.\n",
        "    -spins es un diccionario donde las keys son las parejas (i,j)(i, j)(i,j) y los values son el respectivo valor para el espín.\n",
        "    -nbhs es un defaultdict(list), es decir, los values por defecto serán listas vacías. En este diccionario las keys son las parejas (i,j)(i, j)(i,j) y los values son una lista de tuplas, donde cada pareja corresponde a un vecino.\n"
      ],
      "metadata": {
        "id": "tL0ttYYh3MvN"
      }
    },
    {
      "cell_type": "code",
      "source": [
        "sites = list()\n",
        "spins = dict()\n",
        "nbhs = defaultdict(list)\n"
      ],
      "metadata": {
        "id": "GM8gjY9D3C4M"
      },
      "execution_count": null,
      "outputs": []
    },
    {
      "cell_type": "markdown",
      "source": [
        "Creación de la muestra\n",
        "\n",
        "Debemos crear la red cuadrada de lado length y agregar a la lista sites las parejas (i,j)(i, j)(i,j) como tuplas. Se puede observar que sites es una lista donde cada elemento es una tupla que corresponde a un sitio:"
      ],
      "metadata": {
        "id": "8l2swSuY3aU9"
      }
    },
    {
      "cell_type": "code",
      "source": [
        "print(sites)"
      ],
      "metadata": {
        "id": "tcnNxLY23C78",
        "colab": {
          "base_uri": "https://localhost:8080/"
        },
        "outputId": "15b439b9-efa7-4187-f6b2-c5d36a61550d"
      },
      "execution_count": null,
      "outputs": [
        {
          "output_type": "stream",
          "name": "stdout",
          "text": [
            "[]\n"
          ]
        }
      ]
    },
    {
      "cell_type": "markdown",
      "source": [
        "Creación de estado aleatorio\n",
        "\n",
        "La función random_configuration recorre todos los sitios y les asigna un valor de 1 o -1 aleatoriamente. Se empleará para darle el estado inicial al sistema a temperatura alta.\n",
        "\n",
        "Si se ejecuta la función random_configuration, el diccionario spins tomará valores de -1 o 1 para cada key:"
      ],
      "metadata": {
        "id": "dSSaLyIQ3os_"
      }
    },
    {
      "cell_type": "code",
      "source": [
        "def random_configuration():\n",
        "    for spin in sites:\n",
        "        spins[spin] = numpy.random.choice([-1, 1])"
      ],
      "metadata": {
        "id": "g7fxt_lK3DEv"
      },
      "execution_count": null,
      "outputs": []
    },
    {
      "cell_type": "markdown",
      "source": [
        "Función para visualización de los espines\n",
        "\n",
        "La función consiste en recorrer cada pareja (i,j)(i, j)(i,j) y en cada punto colocar una flecha de color rojo si el sitio tiene valor 1 o azul si tiene valor -1. Se ejecuta la función plot_spins para visualizar el estado del sistema:"
      ],
      "metadata": {
        "id": "JpPYutu73szr"
      }
    },
    {
      "cell_type": "code",
      "source": [
        "def plot_spins():\n",
        "    pyplot.figure()\n",
        "    colors = {1: \"red\", -1: \"blue\"}\n",
        "    for site, spin in spins.items():\n",
        "        x, y = site\n",
        "        pyplot.quiver(x, y, 0, spin, pivot=\"middle\", color=colors[spin])\n",
        "    pyplot.xticks(range(-1,length+1))\n",
        "    pyplot.yticks(range(-1,length+1))\n",
        "    pyplot.gca().set_aspect(\"equal\")\n",
        "    pyplot.grid()\n",
        "    pyplot.show\n",
        "\n",
        "plot_spins()    "
      ],
      "metadata": {
        "id": "jwzADCVh3DID",
        "colab": {
          "base_uri": "https://localhost:8080/",
          "height": 269
        },
        "outputId": "00450292-d661-4b29-8a27-e2143fadd85a"
      },
      "execution_count": null,
      "outputs": [
        {
          "output_type": "display_data",
          "data": {
            "text/plain": [
              "<Figure size 432x288 with 1 Axes>"
            ],
            "image/png": "[encoded data removed]"
          },
          "metadata": {
            "needs_background": "light"
          }
        }
      ]
    },
    {
      "cell_type": "markdown",
      "source": [
        "##Codigo completo\n"
      ],
      "metadata": {
        "id": "hVW76Hv-CeWQ"
      }
    },
    {
      "cell_type": "code",
      "source": [
        "\n",
        "\n",
        "class ising_Agent(Agent):\n",
        "    ## Individual agent represented by a node in a network\n",
        "\n",
        "    ## Initializing the agent.\n",
        "    def __init__(self, unique_id, model,agent_type):\n",
        "        super().__init__(unique_id, model)\n",
        "        self.unique_id = unique_id\n",
        "        self.type = agent_type\n",
        "        \n",
        "    \n",
        "    ## No content on agent's step.\n",
        "    def step(self):\n",
        "      #Hamintoniano\n",
        "      energia_inicial = 0            \n",
        "      energia_final = 0     # Energía si se voltea el spin\n",
        "      spin = self.type\n",
        "      spin_f = - spin\n",
        "      if self.model.normal: \n",
        "          # Selecciona si es una distribución normal o uniforme\n",
        "          u1 = np.random.normal(self.model.media1, self.model.desviacion1)\n",
        "          u2 = np.random.normal(self.model.media2, self.model.desviacion2)\n",
        "      else:\n",
        "          u1 = random.random()\n",
        "          u2 = random.random()\n",
        "\n",
        "      for neighbor in self.model.grid.neighbor_iter(self.pos, False): # Alineación Von Neuman\n",
        "          ng = neighbor.type\n",
        "          if ng ==1: # si es positivo o cancerosa se una mu_1\n",
        "              energia_inicial += -spin*ng*u1\n",
        "              energia_final += -spin_f*ng*u1\n",
        "          else:       # si es -1 SI se una mu_2\n",
        "              energia_inicial += -spin*ng*u2\n",
        "              energia_final += -spin_f*ng*u2\n",
        "\n",
        "      energia_inicial = -self.model.J*energia_inicial # Cálculo de las energías\n",
        "      energia_final = -self.model.J*energia_final \n",
        "      Temp = self.model.T_inv\n",
        "      r1 = random.random()\n",
        "\n",
        "      diff_E = energia_final - energia_inicial # Diferencia de Energias\n",
        "      boltzman = np.exp(-diff_E*Temp)\n",
        "      # Si la energía es menor al hacer el flip entonces se elige ese estado\n",
        "      if (diff_E <0 and self.model.J !=0):\n",
        "          spin *= -1\n",
        "          self.model.total_energy +=diff_E\n",
        "      elif( r1 < boltzman and self.model.J!=0):\n",
        "      # Probabilidad que cambie espontaneamente.\n",
        "          spin *= -1\n",
        "          self.model.total_energy +=diff_E\n",
        "      self.type = spin\n",
        "\n",
        "    \n",
        "class ising_model(Model):\n",
        "    #Model containing N agents connected in a network. Also change the value of agent here\n",
        "    \n",
        "    ##Initializing the model.\n",
        "    def __init__(self, height=20, width=20, minority_pc=0.5, T=0.4, J=0.0, normal=False, \n",
        "    media1 = 0.5, desviacion1=1, media2 = 0.5, desviacion2=1):\n",
        "        \"\"\" \"\"\"\n",
        "        #model atributtes\n",
        "        self.height = height\n",
        "        self.width = width\n",
        "        self.minority_pc = minority_pc       \n",
        "        self.T_inv = 1/T\n",
        "        self.total_energy =0\n",
        "        self.J =J\n",
        "        self.normal=normal\n",
        "        self.media1 = media1\n",
        "        self.desviacion1= desviacion1\n",
        "        self.media2 = media2\n",
        "        self.desviacion2= desviacion2\n",
        "\n",
        "        self.schedule = RandomActivation(self)\n",
        "        self.grid = SingleGrid(width, height, torus=True)\n",
        "\n",
        "        self.datacollector = DataCollector(\n",
        "            {\"energy\": \"energy\"}, \n",
        "            {\"x\": lambda a: a.unique_id[0], \"y\": lambda a: a.unique_id[1]},\n",
        "        )\n",
        "        \n",
        "        ## Creating the agents.\n",
        "        for cell in self.grid.coord_iter():\n",
        "            x = cell[1]\n",
        "            y = cell[2]\n",
        "            if self.random.random() < self.minority_pc:\n",
        "                agent_type = 1              # células cancerosas\n",
        "            else:\n",
        "                agent_type = -1             # Sistema inmune\n",
        "\n",
        "            agent = IsingAgent((x, y), self, agent_type)\n",
        "            self.grid.unique_idition_agent(agent, (x, y))\n",
        "            self.schedule.add(agent)\n",
        "        for cell in self.grid.coord_iter():\n",
        "            # Energía total\n",
        "            spin = cell[0].type\n",
        "            x = cell[1]\n",
        "            y = cell[2]\n",
        "            energia_inicial =0\n",
        "            for neighbor in self.grid.neighbor_iter((x,y), False): \n",
        "                energia_inicial += neighbor.type\n",
        "            self.total_energy += -energia_inicial*spin/2\n",
        "\n",
        "\n",
        "        ## Creating collector for difference function defined above.\n",
        "        self.running = True\n",
        "        self.datacollector.collect(self)\n",
        "    \n",
        "    ## At each model step, they collect data by using the collector.\n",
        "    def step(self):\n",
        "        self.schedule.step()\n",
        "        # collect data\n",
        "        self.datacollector.collect(self)"
      ],
      "metadata": {
        "id": "8cXTsa-RJSRv"
      },
      "execution_count": null,
      "outputs": []
    },
    {
      "cell_type": "code",
      "source": [
        "\n",
        "\n",
        "from mesa.visualization.ModularVisualization import ModularServer\n",
        "from mesa.visualization.modules import CanvasGrid, ChartModule, TextElement\n",
        "from mesa.visualization.UserParam import UserSettableParameter\n",
        "\n",
        "\n",
        "\n",
        "class Element(TextElement):\n",
        "#Display a text count of how many happy agents there are.\n",
        "    \n",
        "    def __init__(self):\n",
        "        pass\n",
        "\n",
        "    def render(self, model):\n",
        "        return \"Energy agents: \" + str(model.total_energy )\n",
        "\n",
        "\n",
        "def schelling_draw(agent):\n",
        "    \"\"\"\n",
        "    Portrayal Method for canvas\n",
        "    \"\"\"\n",
        "    if agent is None:\n",
        "        return\n",
        "    portrayal = {\"Shape\": \"rect\", \"w\":1, \"h\": 1, \"Filled\": \"true\", \"Layer\": 0}\n",
        "\n",
        "    if agent.type == 1:\n",
        "        portrayal[\"Color\"] = [\"#FF0000\", \"#FF9999\"]\n",
        "        portrayal[\"stroke_color\"] = \"#00FF00\"\n",
        "    else:\n",
        "        portrayal[\"Color\"] = [\"#0000FF\", \"#9999FF\"]\n",
        "        portrayal[\"stroke_color\"] = \"#000000\"\n",
        "    return portrayal\n",
        "\n",
        "energy_element = Element()\n",
        "\n",
        "height = 50\n",
        "width = 50 \n",
        "canvas_element = CanvasGrid(schelling_draw, height, width, 500, 500)\n",
        "e_chart = ChartModule([{\"Label\": \"total_energy\", \"Color\": \"Black\"}])\n",
        "\n",
        "model_params = {\n",
        "    \"height\": height,\n",
        "    \"width\": width,\n",
        "    \"minority_pc\": UserSettableParameter(\"slider\", \"Porcentaje de azules\", 0.5, 0.01, 1.0, 0.005),\n",
        "    \"T\": UserSettableParameter(\"slider\", \"T (temperatura)\", 0.4, 0.0, 5, 0.1),\n",
        "    \"J\": UserSettableParameter(\"slider\", \"J\", -0.5, -2, 2, 0.01),\n",
        "    \"normal\": UserSettableParameter(\"checkbox\", \"Distribución normal de mu1 y mu2\", value=False),\n",
        "    \"media1\": UserSettableParameter(\"number\", \"Media mu1\", value=0.5),\n",
        "    \"desviacion1\": UserSettableParameter(\"number\", \"Desviación estandar mu1\", value=0.5),\n",
        "    \"media2\": UserSettableParameter(\"number\", \"Media mu2\", value=0.5),\n",
        "    \"desviacion2\": UserSettableParameter(\"number\", \"Desviación estandar m2\", value=0.5),\n",
        "\n",
        "}\n",
        "\n"
      ],
      "metadata": {
        "id": "tNZi-XF72q7D"
      },
      "execution_count": null,
      "outputs": []
    }
  ]
}